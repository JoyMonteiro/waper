{
 "cells": [
  {
   "cell_type": "code",
   "execution_count": 1,
   "id": "6e41d147",
   "metadata": {},
   "outputs": [],
   "source": [
    "import xarray as xr\n",
    "import vtk\n",
    "import rasterio \n",
    "from rasterio import features\n",
    "\n",
    "from RWP_identification_functions import addMaxData\n",
    "from RWP_identification_functions import interpolateCellVals\n",
    "from RWP_identification_functions import clipDataset\n",
    "from RWP_identification_functions import addConnectivityData\n",
    "from RWP_identification_functions import extractPosMaxIds\n",
    "from RWP_identification_functions import extractSelectionIds\n",
    "from RWP_identification_functions import clusterMax\n",
    "from RWP_identification_functions import max_cluster_assign\n",
    "\n",
    "from RWP_identification_functions import addMinData\n",
    "from RWP_identification_functions import interpolateCellVals_min\n",
    "from RWP_identification_functions import clipDataset_min\n",
    "from RWP_identification_functions import addConnectivityData_min\n",
    "from RWP_identification_functions import extractPosMinIds\n",
    "from RWP_identification_functions import extractSelectionIds_min\n",
    "from RWP_identification_functions import clusterMin\n",
    "from RWP_identification_functions import min_cluster_assign\n",
    "\n",
    "from RWP_identification_functions import computeGradients\n",
    "from RWP_identification_functions import getIsoContour\n",
    "from RWP_identification_functions import computeAssocGraph\n",
    "from RWP_identification_functions import scalarPrune\n",
    "from RWP_identification_functions import edgePrune\n",
    "from RWP_identification_functions import GetRankedPaths\n",
    "\n",
    "from RWP_identification_functions import plot_points\n",
    "from RWP_identification_functions import plot_clusters\n",
    "from RWP_identification_functions import all_clusters\n",
    "from RWP_identification_functions import plot_graph\n",
    "from RWP_identification_functions import plot_ranked_graph"
   ]
  },
  {
   "cell_type": "code",
   "execution_count": 2,
   "id": "8c3513d9",
   "metadata": {},
   "outputs": [],
   "source": [
    "from collections import defaultdict\n",
    "import pandas as pd\n",
    "from shapely.ops import unary_union\n",
    "import numpy as np\n",
    "import cartopy.crs as ccrs\n",
    "import matplotlib.pyplot as plt\n",
    "from myCmap import joyNLDivCmaptest\n",
    "from cartopy.mpl.ticker import LongitudeFormatter, LatitudeFormatter\n",
    "import cmocean\n",
    "from matplotlib.gridspec import GridSpec\n",
    "\n",
    "import shapely\n",
    "from shapely.geometry import MultiPoint\n",
    "from shapely.geometry import Polygon\n",
    "from shapely.geometry import LineString\n",
    "import sys\n",
    "from descartes import PolygonPatch\n",
    "import matplotlib.pyplot as plt\n",
    "import alphashape\n",
    "import matplotlib.cm as cm\n",
    "from matplotlib.colors import Normalize"
   ]
  },
  {
   "cell_type": "code",
   "execution_count": 3,
   "id": "e41c4c21",
   "metadata": {},
   "outputs": [],
   "source": [
    "from operator import add\n",
    "from functools import reduce\n",
    "import networkx as nx\n",
    "import sys\n",
    "\n",
    "# function to split input raster image into 4 equal images \n",
    "# returns the 4 split images \n",
    "\n",
    "def split4(image):\n",
    "    half_split = np.array_split(image, 2)\n",
    "    res = map(lambda x: np.array_split(x, 2, axis=1), half_split)\n",
    "    return reduce(add, res)\n",
    "\n",
    "# function to compute mean pixel value of an image\n",
    "# returns mean value for each image\n",
    "\n",
    "def calculate_mean(img):\n",
    "    return np.mean(img, axis=(0, 1))\n",
    "\n",
    "# function to return all the features (in terms of pixel value assigned to each feature) present in an image\n",
    "def feature(image,array):\n",
    "    f=[]\n",
    "    r,c = image.shape\n",
    "    for i in range(len(array)):\n",
    "        for j in range(r):\n",
    "            for k in range(c):\n",
    "                if(array[i] == image[j][k]):\n",
    "                    if(array[i] not in f):\n",
    "                        f.append(array[i])\n",
    "                elif(image[j][k]==0):\n",
    "                    if(0 not in f):\n",
    "                        f.append(0)\n",
    "    f = np.array(f)                \n",
    "    return f\n",
    "    \n",
    "\n",
    "# function to create a quadtree corresponding to a raster image. Initial node i=0 is created beforehand and passed on as an argument\n",
    "# i represents the position of a node in the raster image. Between 2 quadtrees, nodes with the same i value represents the same position within their respective raster images\n",
    "# level represents the height at which a particular node is located in a quadtree. It serves as a pointer to the dimensions of a node (how many pixels it contains)\n",
    "# the function returns the constructed quadtree Q; nodes are given by their i values and each node consists of the mean of the pixel values, features it contains and the height/level at which the node is located\n",
    "\n",
    "def insert_node(Q,i,image,value,level):\n",
    "    r,c = np.array(image).shape\n",
    "    if(r>1 and c>1):\n",
    "        level = level+1\n",
    "        split_img = split4(image)\n",
    "        split_img = np.array(split_img)\n",
    "\n",
    "        m_1 = calculate_mean(split_img[0])\n",
    "        f_1 = feature(split_img[0],a[value])\n",
    "        Q.add_node((4*i)+1,mean = m_1, f = f_1,level = level)\n",
    "        Q.add_edge(i,(4*i)+1)\n",
    "\n",
    "        m_2 = calculate_mean(split_img[1]) \n",
    "        f_2 = feature(split_img[1],a[value])\n",
    "        Q.add_node((4*i)+2,mean = m_1, f = f_2,level = level)\n",
    "        Q.add_edge(i,(4*i)+2)\n",
    "\n",
    "        m_3 = calculate_mean(split_img[2])\n",
    "        f_3 = feature(split_img[2],a[value])\n",
    "        Q.add_node((4*i)+3,mean = m_1, f = f_3,level = level)\n",
    "        Q.add_edge(i,(4*i)+3)\n",
    "\n",
    "        m_4 = calculate_mean(split_img[3])\n",
    "        f_4 = feature(split_img[3],a[value])\n",
    "        Q.add_node((4*i)+4,mean = m_1, f = f_4,level = level)\n",
    "        Q.add_edge(i,(4*i)+4)\n",
    "\n",
    "        if(len(f_1)>1):\n",
    "            Q = insert_node(Q,(4*i)+1,split_img[0],value,level)\n",
    "\n",
    "        if(len(f_2)>1):\n",
    "            Q = insert_node(Q,(4*i)+2,split_img[1],value,level)\n",
    "\n",
    "        if(len(f_3)>1):\n",
    "            Q = insert_node(Q,(4*i)+3,split_img[2],value,level)\n",
    "\n",
    "        if(len(f_4)>1):\n",
    "            Q = insert_node(Q,(4*i)+4,split_img[3],value,level)\n",
    "\n",
    "\n",
    "    return Q\n"
   ]
  },
  {
   "cell_type": "code",
   "execution_count": 4,
   "id": "0d1f93c9",
   "metadata": {},
   "outputs": [],
   "source": [
    "# function to compute the number of pixels corresponding to each feature in a particular quadtree\n",
    "# returns a dictionary \"pixel_dict\" whose - key:feature values, values:number of pixels \n",
    "\n",
    "def compute_pixels(Q):\n",
    "    pixel_dict = defaultdict(list)\n",
    "    leaf_nodes = [node for node in Q.nodes() if Q.in_degree(node)!=0 and Q.out_degree(node)==0]\n",
    "    for i in range(len(leaf_nodes)):\n",
    "        f = Q.nodes[leaf_nodes[i]][\"f\"]\n",
    "        f = tuple(f)\n",
    "        if(0 in f):\n",
    "            continue\n",
    "        if(f in pixel_dict):\n",
    "            pixel_dict[f]+=(262144/(4**(Q.nodes[leaf_nodes[i]][\"level\"])))\n",
    "        else:\n",
    "            pixel_dict[f]=(262144/(4**(Q.nodes[leaf_nodes[i]][\"level\"])))\n",
    "    return pixel_dict"
   ]
  },
  {
   "cell_type": "code",
   "execution_count": 5,
   "id": "c3c2da96",
   "metadata": {},
   "outputs": [],
   "source": [
    "import math\n",
    "\n",
    "# function to construct a certain branch of the merge quadtree\n",
    "# Used when in a particular location, the feature in one quadtree is bigger in size compared to the feature in the second quadtree\n",
    "# G represents quadtree who has the smaller feature; i is the leaf node(feature node) in the other quadtree\n",
    "# Returns merged quadtree Q with the branch rooted at i same as that of the input quadtree G\n",
    "\n",
    "def construct(Q,G,i,h):\n",
    "    for j in range(1,5):\n",
    "        if((len(G.nodes[(4*i)+j][\"f\"])==1) and (G.nodes[(4*i)+j][\"f\"][0]==0)):\n",
    "            Q.add_node((4*i)+j, f=[0], level = G.nodes[(4*i)+j][\"level\"])\n",
    "        else:\n",
    "            Q.add_node((4*i)+j, f=np.sort(np.concatenate([G.nodes[(4*i)+j][\"f\"],h])), level = G.nodes[(4*i)+j][\"level\"])\n",
    "        Q.add_edge(i,(4*i)+j)\n",
    "    for j in range(1,5):\n",
    "        if(len(G.nodes[(4*i)+j][\"f\"])>1):\n",
    "            Q = construct(Q,G,(4*i)+j,h)\n",
    "    return Q\n",
    "        \n",
    "# function to merge two quadtrees G and H; Q represents the merged quadtree\n",
    "# returns the merged quadtree Q\n",
    "\n",
    "def merge(G,H):\n",
    "    Q = nx.DiGraph()\n",
    "    i = 0\n",
    "    while(i<=332124):\n",
    "        if i not in list(Q):\n",
    "            if i in list(G):\n",
    "                if i in list(H):\n",
    "                    if((len(G.nodes[i][\"f\"])==1 and G.nodes[i][\"f\"][0]==0) or ((len(H.nodes[i][\"f\"])==1 and (H.nodes[i][\"f\"][0]==0)))):\n",
    "                        Q.add_node(i, f=[0], level = G.nodes[i][\"level\"])\n",
    "                        if(math.ceil((i/4)-1)>=0):\n",
    "                            Q.add_edge(math.ceil((i/4)-1),i) \n",
    "                    if((len(G.nodes[i][\"f\"])>1) and ((len(H.nodes[i][\"f\"])==1) and (H.nodes[i][\"f\"]!=0))):\n",
    "                        Q = construct(Q,G,i,H.nodes[i][\"f\"])\n",
    "                    if((len(H.nodes[i][\"f\"])>1) and ((len(G.nodes[i][\"f\"])==1) and (G.nodes[i][\"f\"]!=0))):\n",
    "                        Q = construct(Q,H,i,G.nodes[i][\"f\"])\n",
    "                    else:\n",
    "                        f = np.concatenate([G.nodes[i][\"f\"],H.nodes[i][\"f\"]])\n",
    "                        Q.add_node(i, f=np.sort(f), level = G.nodes[i][\"level\"])\n",
    "                        if(math.ceil((i/4)-1)>=0):\n",
    "                            Q.add_edge(math.ceil((i/4)-1),i)\n",
    "        i = i+1\n",
    "    return Q"
   ]
  },
  {
   "cell_type": "code",
   "execution_count": 6,
   "id": "e49e0598",
   "metadata": {},
   "outputs": [],
   "source": [
    "image = []\n",
    "Q = []\n",
    "final = []\n",
    "assoc = []"
   ]
  },
  {
   "cell_type": "code",
   "execution_count": 7,
   "id": "a9107eb4",
   "metadata": {},
   "outputs": [
    {
     "name": "stdout",
     "output_type": "stream",
     "text": [
      "reached\n"
     ]
    },
    {
     "data": {
      "image/png": "[encoded data removed]",
      "text/plain": [
       "<Figure size 432x288 with 1 Axes>"
      ]
     },
     "metadata": {
      "needs_background": "light"
     },
     "output_type": "display_data"
    },
    {
     "name": "stdout",
     "output_type": "stream",
     "text": [
      "reached\n"
     ]
    },
    {
     "data": {
      "image/png": "[encoded data removed]",
      "text/plain": [
       "<Figure size 432x288 with 1 Axes>"
      ]
     },
     "metadata": {
      "needs_background": "light"
     },
     "output_type": "display_data"
    },
    {
     "name": "stdout",
     "output_type": "stream",
     "text": [
      "reached\n"
     ]
    },
    {
     "data": {
      "image/png": "[encoded data removed]",
      "text/plain": [
       "<Figure size 432x288 with 1 Axes>"
      ]
     },
     "metadata": {
      "needs_background": "light"
     },
     "output_type": "display_data"
    },
    {
     "name": "stdout",
     "output_type": "stream",
     "text": [
      "reached\n"
     ]
    },
    {
     "data": {
      "image/png": "[encoded data removed]",
      "text/plain": [
       "<Figure size 432x288 with 1 Axes>"
      ]
     },
     "metadata": {
      "needs_background": "light"
     },
     "output_type": "display_data"
    },
    {
     "name": "stdout",
     "output_type": "stream",
     "text": [
      "reached\n"
     ]
    },
    {
     "data": {
      "image/png": "[encoded data removed]",
      "text/plain": [
       "<Figure size 432x288 with 1 Axes>"
      ]
     },
     "metadata": {
      "needs_background": "light"
     },
     "output_type": "display_data"
    },
    {
     "name": "stdout",
     "output_type": "stream",
     "text": [
      "reached\n"
     ]
    },
    {
     "data": {
      "image/png": "[encoded data removed]",
      "text/plain": [
       "<Figure size 432x288 with 1 Axes>"
      ]
     },
     "metadata": {
      "needs_background": "light"
     },
     "output_type": "display_data"
    },
    {
     "name": "stdout",
     "output_type": "stream",
     "text": [
      "reached\n"
     ]
    },
    {
     "data": {
      "image/png": "[encoded data removed]",
      "text/plain": [
       "<Figure size 432x288 with 1 Axes>"
      ]
     },
     "metadata": {
      "needs_background": "light"
     },
     "output_type": "display_data"
    },
    {
     "name": "stdout",
     "output_type": "stream",
     "text": [
      "reached\n"
     ]
    },
    {
     "data": {
      "image/png": "[encoded data removed]",
      "text/plain": [
       "<Figure size 432x288 with 1 Axes>"
      ]
     },
     "metadata": {
      "needs_background": "light"
     },
     "output_type": "display_data"
    },
    {
     "name": "stdout",
     "output_type": "stream",
     "text": [
      "reached\n"
     ]
    },
    {
     "data": {
      "image/png": "[encoded data removed]",
      "text/plain": [
       "<Figure size 432x288 with 1 Axes>"
      ]
     },
     "metadata": {
      "needs_background": "light"
     },
     "output_type": "display_data"
    },
    {
     "name": "stdout",
     "output_type": "stream",
     "text": [
      "reached\n"
     ]
    },
    {
     "data": {
      "image/png": "[encoded data removed]",
      "text/plain": [
       "<Figure size 432x288 with 1 Axes>"
      ]
     },
     "metadata": {
      "needs_background": "light"
     },
     "output_type": "display_data"
    },
    {
     "name": "stdout",
     "output_type": "stream",
     "text": [
      "reached\n"
     ]
    },
    {
     "data": {
      "image/png": "[encoded data removed]",
      "text/plain": [
       "<Figure size 432x288 with 1 Axes>"
      ]
     },
     "metadata": {
      "needs_background": "light"
     },
     "output_type": "display_data"
    },
    {
     "name": "stdout",
     "output_type": "stream",
     "text": [
      "reached\n"
     ]
    },
    {
     "data": {
      "image/png": "[encoded data removed]",
      "text/plain": [
       "<Figure size 432x288 with 1 Axes>"
      ]
     },
     "metadata": {
      "needs_background": "light"
     },
     "output_type": "display_data"
    },
    {
     "name": "stdout",
     "output_type": "stream",
     "text": [
      "reached\n"
     ]
    },
    {
     "data": {
      "image/png": "[encoded data removed]",
      "text/plain": [
       "<Figure size 432x288 with 1 Axes>"
      ]
     },
     "metadata": {
      "needs_background": "light"
     },
     "output_type": "display_data"
    },
    {
     "name": "stdout",
     "output_type": "stream",
     "text": [
      "reached\n"
     ]
    },
    {
     "data": {
      "image/png": "[encoded data removed]",
      "text/plain": [
       "<Figure size 432x288 with 1 Axes>"
      ]
     },
     "metadata": {
      "needs_background": "light"
     },
     "output_type": "display_data"
    },
    {
     "name": "stdout",
     "output_type": "stream",
     "text": [
      "reached\n"
     ]
    },
    {
     "data": {
      "image/png": "[encoded data removed]",
      "text/plain": [
       "<Figure size 432x288 with 1 Axes>"
      ]
     },
     "metadata": {
      "needs_background": "light"
     },
     "output_type": "display_data"
    }
   ],
   "source": [
    "# computes raster images corresponding to the given timesteps (0-14 in this case) of the dataset\n",
    "# first we identify representative RWP paths for each timestep (ranked_paths_graph)\n",
    "# we then construct convex hulls around these identified RWPs using the 0.5 * maximum of the v-values in that component\n",
    "# poly_list consists of all such convex hulls for a particular timestep\n",
    "# these polygons and then rasterised; \"image\" is an array that consists of raster images of all timesteps\n",
    "# coords_dict respresents the weighted average coordinates corresponding to each convex hull\n",
    "\n",
    "dataDIR = 'Downloads/Case_1_revised.nc'\n",
    "DS = xr.open_dataset(dataDIR)\n",
    "coords_dict = defaultdict(list)\n",
    "centroid_dict = defaultdict(list)\n",
    "polygon_dict = defaultdict(list)\n",
    "\n",
    "for timestep in range(0,15):\n",
    "    da = DS.v[timestep]\n",
    "    scalar_values = da.values\n",
    "    lon1 = DS.longitude\n",
    "    lat1 = DS.latitude\n",
    "    lon = lon1.values\n",
    "    lat = lat1.values\n",
    "\n",
    "    rect,is_max = addMaxData(lat,lon,scalar_values)\n",
    "    scalar_field = interpolateCellVals(rect)\n",
    "    clip_value_max = 2\n",
    "    clipped_scalar_field = clipDataset(scalar_field, \"v\", clip_value_max)\n",
    "    connectivity_clipped_scalar_field = addConnectivityData(clipped_scalar_field)\n",
    "    max_thresh = 5\n",
    "    max_points = extractSelectionIds(connectivity_clipped_scalar_field,\n",
    "                                     extractPosMaxIds(connectivity_clipped_scalar_field,max_thresh))\n",
    "    max_points = clusterMax(scalar_field, connectivity_clipped_scalar_field, max_points)\n",
    "    cluster_max_arr,cluster_max_point,max_pt_dict,num_max_clusters = max_cluster_assign(max_points)\n",
    "\n",
    "\n",
    "\n",
    "    scalar_field1,is_min = addMinData(lat,lon,scalar_values)\n",
    "    scalar_field1 = interpolateCellVals_min(scalar_field1)\n",
    "    clip_value_min = -2\n",
    "    clipped_scalar_field1 = clipDataset_min(scalar_field1, \"v\", clip_value_min)\n",
    "    connectivity_clipped_scalar_field1 = addConnectivityData_min(clipped_scalar_field1)\n",
    "    min_thresh = -5\n",
    "    min_points = extractSelectionIds_min(connectivity_clipped_scalar_field1, extractPosMinIds(\n",
    "        connectivity_clipped_scalar_field1,min_thresh))\n",
    "    min_points = clusterMin(scalar_field1, connectivity_clipped_scalar_field1, min_points)\n",
    "    cluster_min_arr,cluster_min_point,min_pt_dict,num_min_clusters = min_cluster_assign(min_points)\n",
    "\n",
    "\n",
    "    scalar_field = computeGradients(rect)\n",
    "    zero_contour = getIsoContour(scalar_field, 0.0)\n",
    "    assoc_graph = computeAssocGraph(max_points, min_points, zero_contour)\n",
    "    pruned_assoc_graph_scalar = scalarPrune(assoc_graph, 30)\n",
    "    pruned_assoc_graph_edge = edgePrune(pruned_assoc_graph_scalar, 0.02)\n",
    "    ranked_paths_graph = GetRankedPaths(pruned_assoc_graph_edge)\n",
    "    assoc.append(assoc_graph)\n",
    "    final.append(ranked_paths_graph)\n",
    "\n",
    "    abs_max_dict = defaultdict(list)\n",
    "    poly_dict = defaultdict(list)\n",
    "    poly_list = []\n",
    "    \n",
    "    \n",
    "    for i in range(len(ranked_paths_graph)):\n",
    "        max_value = 0\n",
    "        coord = [0,0]\n",
    "        weight = 0\n",
    "        for j in range(len(ranked_paths_graph[i])):\n",
    "            \n",
    "            coord[0]+=abs(pruned_assoc_graph_edge.nodes[ranked_paths_graph[i][j]][\"scalar\"])*pruned_assoc_graph_edge.nodes[ranked_paths_graph[i][j]][\"coords\"][0]\n",
    "            coord[1]+=abs(pruned_assoc_graph_edge.nodes[ranked_paths_graph[i][j]][\"scalar\"])*pruned_assoc_graph_edge.nodes[ranked_paths_graph[i][j]][\"coords\"][1]\n",
    "            weight+=abs(pruned_assoc_graph_edge.nodes[ranked_paths_graph[i][j]][\"scalar\"])\n",
    "            \n",
    "            if(ranked_paths_graph[i][j]<0):\n",
    "                if(max_value < -assoc_graph.nodes[ranked_paths_graph[i][j]][\"scalar\"]):\n",
    "                    max_value = -assoc_graph.nodes[ranked_paths_graph[i][j]][\"scalar\"]\n",
    "                    \n",
    "            else:\n",
    "                if(max_value < assoc_graph.nodes[ranked_paths_graph[i][j]][\"scalar\"]): \n",
    "                    max_value = assoc_graph.nodes[ranked_paths_graph[i][j]][\"scalar\"]\n",
    "                    \n",
    "        \n",
    "        abs_max_dict[i] = round(max_value,2)\n",
    "        scalar = 0.5*max_value\n",
    "        coords_dict[abs_max_dict[i]]=[coord[0]/weight,coord[1]/weight]\n",
    "\n",
    "        clip_max = clipDataset(rect,\"v\",scalar)\n",
    "        connected_max = addConnectivityData(clip_max)\n",
    "        region_id_max = connected_max.GetPointData().GetArray(\"RegionId\")\n",
    "\n",
    "        clip_min = clipDataset_min(rect,\"v\",-scalar)\n",
    "        connected_min = addConnectivityData_min(clip_min)\n",
    "        region_id_min = connected_min.GetPointData().GetArray(\"RegionId\")\n",
    "\n",
    "        MaxLocator=vtk.vtkPointLocator()\n",
    "        MaxLocator.SetDataSet(connected_max)\n",
    "        MaxLocator.BuildLocator()\n",
    "\n",
    "        MinLocator=vtk.vtkPointLocator()\n",
    "        MinLocator.SetDataSet(connected_min)\n",
    "        MinLocator.BuildLocator()\n",
    "\n",
    "        for j in range(len(ranked_paths_graph[i])):\n",
    "            \n",
    "            if(ranked_paths_graph[i][j] >= 0):\n",
    "                x,y = pruned_assoc_graph_edge.nodes[ranked_paths_graph[i][j]][\"coords\"]\n",
    "                coords = [x,y,0.0]\n",
    "                #print(coords)\n",
    "                iD = MaxLocator.FindClosestPoint(coords)\n",
    "                region_id = region_id_max.GetTuple1(iD)\n",
    "                #print(region_id)\n",
    "                for k in range(connected_max.GetNumberOfPoints()):\n",
    "                    if(region_id_max.GetTuple1(k) == region_id):\n",
    "                        coords = [connected_max.GetPoint(k)[0],connected_max.GetPoint(k)[1]]\n",
    "                        poly_dict[i].append(coords)\n",
    "\n",
    "\n",
    "            if(ranked_paths_graph[i][j] < 0):\n",
    "                x,y = pruned_assoc_graph_edge.nodes[ranked_paths_graph[i][j]][\"coords\"]\n",
    "                coords = [x,y,0.0]\n",
    "                iD = MinLocator.FindClosestPoint(coords)\n",
    "                region_id = region_id_min.GetTuple1(iD)\n",
    "                for k in range(connected_min.GetNumberOfPoints()):\n",
    "                    if(region_id_min.GetTuple1(k) == region_id):\n",
    "                        coords = [connected_min.GetPoint(k)[0],connected_min.GetPoint(k)[1]]\n",
    "                        poly_dict[i].append(coords)                    \n",
    "        \n",
    "        \n",
    "        \n",
    "    for i in range(len(poly_dict)):\n",
    "        simple = MultiPoint(poly_dict[i]).convex_hull\n",
    "        poly_list.append([simple,abs_max_dict[i]])\n",
    "        polygon_dict[abs_max_dict[i]]=simple\n",
    "    \n",
    "    print(\"reached\")\n",
    "    img = features.rasterize(((g,i) for g,i in poly_list),out_shape = (512,512),all_touched = True)\n",
    "    image.append(img[::-1])\n",
    "    plt.imshow(img[::-1])\n",
    "    plt.gray()\n",
    "    plt.show()\n",
    "    "
   ]
  },
  {
   "cell_type": "code",
   "execution_count": 8,
   "id": "0b01f1f4",
   "metadata": {},
   "outputs": [
    {
     "data": {
      "text/plain": [
       "defaultdict(list,\n",
       "            {60.8: [304.1485499560071, 40.73623951848549],\n",
       "             55.14: [43.05601320783904, 47.9521735483612],\n",
       "             54.9: [221.22951460839616, 29.502171561663605],\n",
       "             64.28: [45.768065528879035, 46.532399900446364],\n",
       "             72.17: [277.1901714590542, 40.10244022019268],\n",
       "             50.17: [305.2627434430373, 40.32062153913724],\n",
       "             38.35: [188.3865578118197, 41.726588080153036],\n",
       "             66.08: [42.74884055365892, 43.39630828456551],\n",
       "             54.78: [249.6526605463, 27.75],\n",
       "             53.74: [347.37437930201963, 46.76056898751953],\n",
       "             61.11: [328.28445884901964, 50.59339448662914],\n",
       "             51.69: [227.37811795055325, 34.62562520597293],\n",
       "             60.52: [19.708197566093958, 36.39909422444083],\n",
       "             38.13: [90.91686135940644, 42.24150558479606],\n",
       "             50.26: [37.717417837586765, 32.72410265936334],\n",
       "             53.29: [220.48397411294115, 45.84459041698709],\n",
       "             43.44: [266.0178369099177, 31.10459472715461],\n",
       "             43.86: [163.19224008613136, 45.16954070884023],\n",
       "             47.91: [213.87883014542254, 38.82727603393865],\n",
       "             51.8: [107.77220512272751, 39.504121035594736],\n",
       "             43.08: [23.32447040711365, 38.62974316570615],\n",
       "             70.49: [200.36872541602602, 41.56392471892725],\n",
       "             68.73: [198.27729871826782, 41.38063013713759],\n",
       "             33.19: [2.9810013550516734, 51.90651558309425],\n",
       "             60.09: [267.5152100977601, 40.84161664339046],\n",
       "             43.6: [315.89414984337975, 46.90503121737078],\n",
       "             45.72: [137.180667282942, 69.38604031856437],\n",
       "             46.08: [23.464153490514448, 54.04783980901577],\n",
       "             35.32: [107.00660502011108, 41.93875678823768],\n",
       "             75.65: [258.861281223589, 44.93094666727584],\n",
       "             68.14: [303.5179403854119, 43.45611144696558],\n",
       "             58.92: [199.40789502447313, 37.29535937384252],\n",
       "             38.96: [30.631367889516653, 62.12361961714854],\n",
       "             53.86: [214.8325956590997, 35.6181601785419],\n",
       "             66.03: [319.69293306681624, 39.324542848439386],\n",
       "             37.45: [31.698703415960434, 55.49261200034873],\n",
       "             34.41: [57.15042545958304, 48.7841309921441],\n",
       "             38.88: [193.01445647925235, 14.724171179719635],\n",
       "             50.04: [227.76226106541952, 46.55539556533847],\n",
       "             63.84: [17.189459626630168, 43.157648065325084],\n",
       "             57.79: [313.06524516026127, 35.386203614185064],\n",
       "             47.58: [234.25551631485914, 48.15002706856991],\n",
       "             58.32: [29.60522021756434, 53.15836926240382],\n",
       "             58.44: [340.1097594168063, 42.536383422474515],\n",
       "             46.36: [235.18175909592745, 43.60693385610416],\n",
       "             34.6: [109.86496324698662, 41.956212849441435],\n",
       "             52.59: [252.67111371088097, 40.401551924262264],\n",
       "             42.97: [34.69855971221686, 42.724999570599635]})"
      ]
     },
     "execution_count": 8,
     "metadata": {},
     "output_type": "execute_result"
    }
   ],
   "source": [
    "coords_dict"
   ]
  },
  {
   "cell_type": "code",
   "execution_count": 9,
   "id": "c0be3839",
   "metadata": {},
   "outputs": [
    {
     "name": "stdout",
     "output_type": "stream",
     "text": [
      "[[60.8, 55.14, 54.9], [72.17, 64.28], [66.08, 54.78, 53.74, 50.17, 38.35], [61.11, 60.52, 51.69, 38.13], [53.29, 50.26, 43.86, 43.44], [51.8, 47.91, 43.08], [70.49], [68.73, 60.09, 45.72, 43.6, 33.19], [75.65, 46.08, 35.32], [68.14, 58.92, 38.96], [66.03, 53.86, 37.45], [63.84, 57.79, 50.04, 38.88, 34.41], [58.44, 58.32, 47.58], [46.36], [52.59, 42.97, 34.6]]\n"
     ]
    }
   ],
   "source": [
    "# a is a an array whose elements are arrays of features present in each timestep\n",
    "# each element of a is an array which consists of the pixel values representing features in that particular timestep \n",
    "\n",
    "a = []\n",
    "for k in range(len(image)):\n",
    "    b = []\n",
    "    for i in range(len(image[k])):\n",
    "        for j in range(len(image[k][i])):\n",
    "            if(image[k][i][j]>=1):\n",
    "                if image[k][i][j] not in b: \n",
    "                    b.append(image[k][i][j])\n",
    "    b.sort(reverse = True)\n",
    "    a.append(b)\n",
    "print(a)"
   ]
  },
  {
   "cell_type": "code",
   "execution_count": 10,
   "id": "49df1acb",
   "metadata": {},
   "outputs": [],
   "source": [
    "# creating quadtrees for each raster image\n",
    "# Q is an array that consists of quadtrees for all timesteps\n",
    "\n",
    "for i in range(len(image)):\n",
    "    Q1 = nx.DiGraph()\n",
    "    m = calculate_mean(image[i])\n",
    "    Q1.add_node(0, mean = m, f = feature(image[i],a[i]),level = 0)\n",
    "    Q1 = insert_node(Q1,0,image[i],i,0)\n",
    "    Q.append(Q1)"
   ]
  },
  {
   "cell_type": "code",
   "execution_count": 11,
   "id": "af13c58a",
   "metadata": {},
   "outputs": [
    {
     "name": "stdout",
     "output_type": "stream",
     "text": [
      "(60.8, 72.17) 1732.0\n",
      "(54.9, 72.17) 958.0\n",
      "(55.14, 64.28) 1432.0\n",
      "(64.28, 66.08) 1914.0\n",
      "(54.78, 72.17) 319.0\n",
      "(53.74, 72.17) 296.0\n",
      "(50.17, 72.17) 760.0\n",
      "(38.35, 72.17) 93.0\n",
      "(53.74, 61.11) 197.0\n",
      "(50.17, 61.11) 306.0\n",
      "(60.52, 66.08) 540.0\n",
      "(51.69, 54.78) 319.0\n",
      "(38.35, 51.69) 510.0\n",
      "(38.13, 66.08) 89.0\n",
      "(51.69, 53.29) 431.0\n",
      "(50.26, 60.52) 492.0\n",
      "(38.13, 50.26) 296.0\n",
      "(43.86, 51.69) 94.0\n",
      "(43.44, 51.69) 42.0\n",
      "(50.26, 51.8) 82.0\n",
      "(47.91, 53.29) 596.0\n",
      "(43.86, 47.91) 22.0\n",
      "(43.44, 47.91) 51.0\n",
      "(43.08, 50.26) 695.0\n",
      "(47.91, 70.49) 1706.0\n",
      "(68.73, 70.49) 511.0\n",
      "(60.09, 70.49) 335.0\n",
      "(68.73, 75.65) 642.0\n",
      "(60.09, 75.65) 728.0\n",
      "(45.72, 75.65) 189.0\n",
      "(43.6, 75.65) 357.0\n",
      "(33.19, 46.08) 142.0\n",
      "(68.14, 75.65) 3058.0\n",
      "(58.92, 75.65) 1559.0\n",
      "(38.96, 46.08) 690.0\n",
      "(66.03, 68.14) 1038.0\n",
      "(53.86, 68.14) 825.0\n",
      "(53.86, 58.92) 1689.0\n",
      "(37.45, 38.96) 1260.0\n",
      "(37.45, 63.84) 350.0\n",
      "(57.79, 66.03) 786.0\n",
      "(50.04, 53.86) 1203.0\n",
      "(38.88, 53.86) 270.0\n",
      "(34.41, 37.45) 458.0\n",
      "(57.79, 58.44) 336.0\n",
      "(58.32, 63.84) 322.0\n",
      "(34.41, 58.32) 90.0\n",
      "(47.58, 57.79) 22.0\n",
      "(47.58, 50.04) 1470.0\n",
      "(46.36, 47.58) 1796.0\n",
      "(46.36, 52.59) 1150.0\n"
     ]
    }
   ],
   "source": [
    "# Track is a tracking graph that consists of feature nodes (pixel values of each feature) for each timestep and edges between every feature that overlaps between consecutive timesteps\n",
    "\n",
    "from itertools import product\n",
    "\n",
    "Track = nx.Graph()\n",
    "for i in range(len(a)):\n",
    "    for j in range(len(a[i])):\n",
    "        Track.add_node(a[i][j],layer = i)\n",
    "    if(i>0):\n",
    "        edge_list = list(product(a[i],a[i-1]))\n",
    "        merge_graph = merge(Q[i],Q[i-1])\n",
    "        overlap = compute_pixels(merge_graph)\n",
    "        for e in edge_list:\n",
    "            if e in overlap:\n",
    "                print(e,overlap[e])\n",
    "                Track.add_edge(e[0],e[1])\n",
    "            if e[::-1] in overlap:\n",
    "                print(e[::-1],overlap[e[::-1]])\n",
    "                Track.add_edge(e[0],e[1])\n"
   ]
  },
  {
   "cell_type": "code",
   "execution_count": 12,
   "id": "b381bd0f",
   "metadata": {},
   "outputs": [
    {
     "data": {
      "text/plain": [
       "EdgeView([(60.8, 72.17), (55.14, 64.28), (54.9, 72.17), (72.17, 54.78), (72.17, 53.74), (72.17, 50.17), (72.17, 38.35), (64.28, 66.08), (66.08, 60.52), (66.08, 38.13), (54.78, 51.69), (53.74, 61.11), (50.17, 61.11), (38.35, 51.69), (60.52, 50.26), (51.69, 53.29), (51.69, 43.86), (51.69, 43.44), (38.13, 50.26), (53.29, 47.91), (50.26, 51.8), (50.26, 43.08), (43.86, 47.91), (43.44, 47.91), (47.91, 70.49), (70.49, 68.73), (70.49, 60.09), (68.73, 75.65), (60.09, 75.65), (45.72, 75.65), (43.6, 75.65), (33.19, 46.08), (75.65, 68.14), (75.65, 58.92), (46.08, 38.96), (68.14, 66.03), (68.14, 53.86), (58.92, 53.86), (38.96, 37.45), (66.03, 57.79), (53.86, 50.04), (53.86, 38.88), (37.45, 63.84), (37.45, 34.41), (63.84, 58.32), (57.79, 58.44), (57.79, 47.58), (50.04, 47.58), (34.41, 58.32), (47.58, 46.36), (46.36, 52.59)])"
      ]
     },
     "execution_count": 12,
     "metadata": {},
     "output_type": "execute_result"
    }
   ],
   "source": [
    "Track.edges()"
   ]
  },
  {
   "cell_type": "code",
   "execution_count": 13,
   "id": "a929caad",
   "metadata": {},
   "outputs": [],
   "source": [
    "# function to compute weight based on extent of overlap between the given combination (comb) of features in timestep i+1 and the feature n in timestep i\n",
    "# returns the weight for the given inputs\n",
    "\n",
    "def compute_weight(comb,n,i):\n",
    "    overlap_1 = compute_pixels(Q[i])\n",
    "    overlap_2 = compute_pixels(Q[i+1])\n",
    "    merge_q = merge(Q[i],Q[i+1])\n",
    "    overlap_3 = compute_pixels(merge_q)\n",
    "    area_1 = overlap_1[(n,)]\n",
    "    area_2 = 0\n",
    "    merge_area = 0\n",
    "    for i in range(len(comb)):\n",
    "        if (n,comb[i]) in overlap_3:\n",
    "            merge_area+=overlap_3[(n,comb[i])]\n",
    "        if (comb[i],n) in overlap_3:\n",
    "            merge_area+=overlap_3[(comb[i],n)]\n",
    "        area_2+=overlap_2[(comb[i],)]\n",
    "    den = max(area_1,area_2)\n",
    "    num = merge_area\n",
    "    weight = num/den\n",
    "    return weight"
   ]
  },
  {
   "cell_type": "code",
   "execution_count": 14,
   "id": "3e3589e9",
   "metadata": {},
   "outputs": [
    {
     "name": "stdout",
     "output_type": "stream",
     "text": [
      "60.8\n",
      "edge info (60.8, 72.17)\n",
      "included\n",
      "55.14\n",
      "edge info (55.14, 64.28)\n",
      "included\n",
      "54.9\n",
      "edge info (54.9, 72.17)\n",
      "included\n",
      "72.17\n",
      "edge info (72.17, 60.8)\n",
      "edge info (72.17, 54.9)\n",
      "edge info (72.17, 54.78)\n",
      "included\n",
      "edge info (72.17, 53.74)\n",
      "included\n",
      "edge info (72.17, 50.17)\n",
      "included\n",
      "edge info (72.17, 38.35)\n",
      "included\n",
      "64.28\n",
      "edge info (64.28, 55.14)\n",
      "edge info (64.28, 66.08)\n",
      "included\n",
      "66.08\n",
      "edge info (66.08, 64.28)\n",
      "edge info (66.08, 60.52)\n",
      "included\n",
      "edge info (66.08, 38.13)\n",
      "included\n",
      "54.78\n",
      "edge info (54.78, 72.17)\n",
      "edge info (54.78, 51.69)\n",
      "included\n",
      "53.74\n",
      "edge info (53.74, 72.17)\n",
      "edge info (53.74, 61.11)\n",
      "included\n",
      "50.17\n",
      "edge info (50.17, 72.17)\n",
      "edge info (50.17, 61.11)\n",
      "included\n",
      "38.35\n",
      "edge info (38.35, 72.17)\n",
      "edge info (38.35, 51.69)\n",
      "included\n",
      "61.11\n",
      "edge info (61.11, 53.74)\n",
      "edge info (61.11, 50.17)\n",
      "60.52\n",
      "edge info (60.52, 66.08)\n",
      "edge info (60.52, 50.26)\n",
      "included\n",
      "51.69\n",
      "edge info (51.69, 54.78)\n",
      "edge info (51.69, 38.35)\n",
      "edge info (51.69, 53.29)\n",
      "included\n",
      "edge info (51.69, 43.86)\n",
      "included\n",
      "edge info (51.69, 43.44)\n",
      "included\n",
      "38.13\n",
      "edge info (38.13, 66.08)\n",
      "edge info (38.13, 50.26)\n",
      "included\n",
      "53.29\n",
      "edge info (53.29, 51.69)\n",
      "edge info (53.29, 47.91)\n",
      "included\n",
      "50.26\n",
      "edge info (50.26, 60.52)\n",
      "edge info (50.26, 38.13)\n",
      "edge info (50.26, 51.8)\n",
      "included\n",
      "edge info (50.26, 43.08)\n",
      "included\n",
      "43.86\n",
      "edge info (43.86, 51.69)\n",
      "edge info (43.86, 47.91)\n",
      "included\n",
      "43.44\n",
      "edge info (43.44, 51.69)\n",
      "edge info (43.44, 47.91)\n",
      "included\n",
      "51.8\n",
      "edge info (51.8, 50.26)\n",
      "47.91\n",
      "edge info (47.91, 53.29)\n",
      "edge info (47.91, 43.86)\n",
      "edge info (47.91, 43.44)\n",
      "edge info (47.91, 70.49)\n",
      "included\n",
      "43.08\n",
      "edge info (43.08, 50.26)\n",
      "70.49\n",
      "edge info (70.49, 47.91)\n",
      "edge info (70.49, 68.73)\n",
      "included\n",
      "edge info (70.49, 60.09)\n",
      "included\n",
      "68.73\n",
      "edge info (68.73, 70.49)\n",
      "edge info (68.73, 75.65)\n",
      "included\n",
      "60.09\n",
      "edge info (60.09, 70.49)\n",
      "edge info (60.09, 75.65)\n",
      "included\n",
      "45.72\n",
      "edge info (45.72, 75.65)\n",
      "included\n",
      "43.6\n",
      "edge info (43.6, 75.65)\n",
      "included\n",
      "33.19\n",
      "edge info (33.19, 46.08)\n",
      "included\n",
      "75.65\n",
      "edge info (75.65, 68.73)\n",
      "edge info (75.65, 60.09)\n",
      "edge info (75.65, 45.72)\n",
      "edge info (75.65, 43.6)\n",
      "edge info (75.65, 68.14)\n",
      "included\n",
      "edge info (75.65, 58.92)\n",
      "included\n",
      "46.08\n",
      "edge info (46.08, 33.19)\n",
      "edge info (46.08, 38.96)\n",
      "included\n",
      "35.32\n",
      "68.14\n",
      "edge info (68.14, 75.65)\n",
      "edge info (68.14, 66.03)\n",
      "included\n",
      "edge info (68.14, 53.86)\n",
      "included\n",
      "58.92\n",
      "edge info (58.92, 75.65)\n",
      "edge info (58.92, 53.86)\n",
      "included\n",
      "38.96\n",
      "edge info (38.96, 46.08)\n",
      "edge info (38.96, 37.45)\n",
      "included\n",
      "66.03\n",
      "edge info (66.03, 68.14)\n",
      "edge info (66.03, 57.79)\n",
      "included\n",
      "53.86\n",
      "edge info (53.86, 68.14)\n",
      "edge info (53.86, 58.92)\n",
      "edge info (53.86, 50.04)\n",
      "included\n",
      "edge info (53.86, 38.88)\n",
      "included\n",
      "37.45\n",
      "edge info (37.45, 38.96)\n",
      "edge info (37.45, 63.84)\n",
      "included\n",
      "edge info (37.45, 34.41)\n",
      "included\n",
      "63.84\n",
      "edge info (63.84, 37.45)\n",
      "edge info (63.84, 58.32)\n",
      "included\n",
      "57.79\n",
      "edge info (57.79, 66.03)\n",
      "edge info (57.79, 58.44)\n",
      "included\n",
      "edge info (57.79, 47.58)\n",
      "50.04\n",
      "edge info (50.04, 53.86)\n",
      "edge info (50.04, 47.58)\n",
      "included\n",
      "38.88\n",
      "edge info (38.88, 53.86)\n",
      "34.41\n",
      "edge info (34.41, 37.45)\n",
      "edge info (34.41, 58.32)\n",
      "included\n",
      "58.44\n",
      "edge info (58.44, 57.79)\n",
      "58.32\n",
      "edge info (58.32, 63.84)\n",
      "edge info (58.32, 34.41)\n",
      "47.58\n",
      "edge info (47.58, 57.79)\n",
      "edge info (47.58, 50.04)\n",
      "edge info (47.58, 46.36)\n",
      "included\n",
      "46.36\n",
      "edge info (46.36, 47.58)\n",
      "edge info (46.36, 52.59)\n",
      "included\n",
      "[(57.79, 47.58)]\n"
     ]
    }
   ],
   "source": [
    "# to find the combinations with the highest overlap value (classifying events into amalgamations, continuations and bifurcations)\n",
    "# filter the edges of the tracking graph\n",
    "\n",
    "import itertools\n",
    "\n",
    "edge_list = []\n",
    "for i in range(len(a)-1):\n",
    "    for j in range(len(a[i])):\n",
    "        print(a[i][j])\n",
    "        n_list = []\n",
    "        max_tuple = tuple()\n",
    "        max_weight = 0\n",
    "\n",
    "        for k in Track.neighbors(a[i][j]):\n",
    "            if k in a[i+1]:\n",
    "                n_list.append(k)\n",
    "        for k in range(1,len(n_list)+1):\n",
    "            for comb in itertools.combinations(n_list,k):\n",
    "                weight = compute_weight(comb,a[i][j],i)\n",
    "\n",
    "                if(max_weight < weight):\n",
    "                    max_weight = weight\n",
    "                    max_tuple = comb\n",
    "\n",
    "        for e in Track.edges(a[i][j]):\n",
    "            print(\"edge info\",e) \n",
    "            if (e[1] in max_tuple) and (e[0]==a[i][j]):\n",
    "                Track[e[0]][e[1]][\"weight\"] = max_weight\n",
    "                print(\"included\")\n",
    "            if (e[1] not in max_tuple) and (e[1] in a[i+1]):\n",
    "                edge_list.append(e)\n",
    "\n",
    "print(edge_list)\n",
    "for e in edge_list:\n",
    "#   print(e)\n",
    "    Track.remove_edge(e[0],e[1])\n",
    "                "
   ]
  },
  {
   "cell_type": "code",
   "execution_count": 15,
   "id": "85e11151",
   "metadata": {},
   "outputs": [
    {
     "data": {
      "text/plain": [
       "[(57.79, 47.58)]"
      ]
     },
     "execution_count": 15,
     "metadata": {},
     "output_type": "execute_result"
    }
   ],
   "source": [
    "edge_list "
   ]
  },
  {
   "cell_type": "code",
   "execution_count": 16,
   "id": "f20f156c",
   "metadata": {},
   "outputs": [
    {
     "name": "stdout",
     "output_type": "stream",
     "text": [
      "(60.8, 72.17)\n",
      "(55.14, 64.28)\n",
      "(54.9, 72.17)\n",
      "(72.17, 54.78)\n",
      "(72.17, 53.74)\n",
      "(72.17, 50.17)\n",
      "(72.17, 38.35)\n",
      "(64.28, 66.08)\n",
      "(66.08, 60.52)\n",
      "(66.08, 38.13)\n",
      "(54.78, 51.69)\n",
      "(53.74, 61.11)\n",
      "(50.17, 61.11)\n",
      "(38.35, 51.69)\n",
      "(60.52, 50.26)\n",
      "(51.69, 53.29)\n",
      "(51.69, 43.86)\n",
      "(51.69, 43.44)\n",
      "(38.13, 50.26)\n",
      "(53.29, 47.91)\n",
      "(50.26, 51.8)\n",
      "(50.26, 43.08)\n",
      "(43.86, 47.91)\n",
      "(43.44, 47.91)\n",
      "(47.91, 70.49)\n",
      "(70.49, 68.73)\n",
      "(70.49, 60.09)\n",
      "(68.73, 75.65)\n",
      "(60.09, 75.65)\n",
      "(45.72, 75.65)\n",
      "(43.6, 75.65)\n",
      "(33.19, 46.08)\n",
      "(75.65, 68.14)\n",
      "(75.65, 58.92)\n",
      "(46.08, 38.96)\n",
      "(68.14, 66.03)\n",
      "(68.14, 53.86)\n",
      "(58.92, 53.86)\n",
      "(38.96, 37.45)\n",
      "(66.03, 57.79)\n",
      "(53.86, 50.04)\n",
      "(53.86, 38.88)\n",
      "(37.45, 63.84)\n",
      "(37.45, 34.41)\n",
      "(63.84, 58.32)\n",
      "(57.79, 58.44)\n",
      "(50.04, 47.58)\n",
      "(34.41, 58.32)\n",
      "(47.58, 46.36)\n",
      "(46.36, 52.59)\n"
     ]
    }
   ],
   "source": [
    "for e in Track.edges():\n",
    "    print(e)"
   ]
  },
  {
   "cell_type": "code",
   "execution_count": null,
   "id": "dd9af54d",
   "metadata": {},
   "outputs": [],
   "source": []
  }
 ],
 "metadata": {
  "kernelspec": {
   "display_name": "Python 3 (ipykernel)",
   "language": "python",
   "name": "python3"
  },
  "language_info": {
   "codemirror_mode": {
    "name": "ipython",
    "version": 3
   },
   "file_extension": ".py",
   "mimetype": "text/x-python",
   "name": "python",
   "nbconvert_exporter": "python",
   "pygments_lexer": "ipython3",
   "version": "3.8.10"
  }
 },
 "nbformat": 4,
 "nbformat_minor": 5
}
